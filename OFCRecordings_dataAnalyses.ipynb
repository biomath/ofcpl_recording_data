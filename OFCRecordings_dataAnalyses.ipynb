{
 "cells": [
  {
   "cell_type": "code",
   "execution_count": 3,
   "outputs": [
    {
     "data": {
      "text/plain": "   Unnamed: 0                                  Unit     Cluster  \\\n0           1  SUBJ-ID-197_210219_concat_cluster458  cluster458   \n1           2  SUBJ-ID-197_210219_concat_cluster458  cluster458   \n2           3  SUBJ-ID-197_210219_concat_cluster458  cluster458   \n3           4  SUBJ-ID-197_210219_concat_cluster458  cluster458   \n4           5  SUBJ-ID-197_210219_concat_cluster458  cluster458   \n\n                                            Key_file      Subject  \\\n0  SUBJ-ID-197_MML-Passive-Pre-210219-142043_tria...  SUBJ-ID-197   \n1  SUBJ-ID-197_MML-Passive-Pre-210219-142043_tria...  SUBJ-ID-197   \n2  SUBJ-ID-197_MML-Passive-Pre-210219-142043_tria...  SUBJ-ID-197   \n3  SUBJ-ID-197_MML-Passive-Pre-210219-142043_tria...  SUBJ-ID-197   \n4  SUBJ-ID-197_MML-Passive-Pre-210219-142043_tria...  SUBJ-ID-197   \n\n                   SessionID    Date  TrialID  AMdepth  Reminder  ...  \\\n0  Passive-Pre-210219-142043  210219        6     1.00         0  ...   \n1  Passive-Pre-210219-142043  210219        6     1.00         0  ...   \n2  Passive-Pre-210219-142043  210219       10     0.71         0  ...   \n3  Passive-Pre-210219-142043  210219       10     0.71         0  ...   \n4  Passive-Pre-210219-142043  210219       15     0.50         0  ...   \n\n   Repolarization  Best_channel  Shank  Cluster_quality_MML ISI_FPRate  \\\n0        0.270336            58      1                 good   0.010609   \n1        0.270336            58      1                 good   0.010609   \n2        0.270336            58      1                 good   0.010609   \n3        0.270336            58      1                 good   0.010609   \n4        0.270336            58      1                 good   0.010609   \n\n   Fraction_missing  Presence_ratio Cluster_quality_Allen  Threshold  \\\n0           0.01684            0.25                   mua -13.520277   \n1           0.01684            0.25                   mua -13.520277   \n2           0.01684            0.25                   mua -13.520277   \n3           0.01684            0.25                   mua -13.520277   \n4           0.01684            0.25                   mua -13.520277   \n\n   Norm_threshold  \n0       -0.746215  \n1       -0.746215  \n2       -0.746215  \n3       -0.746215  \n4       -0.746215  \n\n[5 rows x 31 columns]",
      "text/html": "<div>\n<style scoped>\n    .dataframe tbody tr th:only-of-type {\n        vertical-align: middle;\n    }\n\n    .dataframe tbody tr th {\n        vertical-align: top;\n    }\n\n    .dataframe thead th {\n        text-align: right;\n    }\n</style>\n<table border=\"1\" class=\"dataframe\">\n  <thead>\n    <tr style=\"text-align: right;\">\n      <th></th>\n      <th>Unnamed: 0</th>\n      <th>Unit</th>\n      <th>Cluster</th>\n      <th>Key_file</th>\n      <th>Subject</th>\n      <th>SessionID</th>\n      <th>Date</th>\n      <th>TrialID</th>\n      <th>AMdepth</th>\n      <th>Reminder</th>\n      <th>...</th>\n      <th>Repolarization</th>\n      <th>Best_channel</th>\n      <th>Shank</th>\n      <th>Cluster_quality_MML</th>\n      <th>ISI_FPRate</th>\n      <th>Fraction_missing</th>\n      <th>Presence_ratio</th>\n      <th>Cluster_quality_Allen</th>\n      <th>Threshold</th>\n      <th>Norm_threshold</th>\n    </tr>\n  </thead>\n  <tbody>\n    <tr>\n      <th>0</th>\n      <td>1</td>\n      <td>SUBJ-ID-197_210219_concat_cluster458</td>\n      <td>cluster458</td>\n      <td>SUBJ-ID-197_MML-Passive-Pre-210219-142043_tria...</td>\n      <td>SUBJ-ID-197</td>\n      <td>Passive-Pre-210219-142043</td>\n      <td>210219</td>\n      <td>6</td>\n      <td>1.00</td>\n      <td>0</td>\n      <td>...</td>\n      <td>0.270336</td>\n      <td>58</td>\n      <td>1</td>\n      <td>good</td>\n      <td>0.010609</td>\n      <td>0.01684</td>\n      <td>0.25</td>\n      <td>mua</td>\n      <td>-13.520277</td>\n      <td>-0.746215</td>\n    </tr>\n    <tr>\n      <th>1</th>\n      <td>2</td>\n      <td>SUBJ-ID-197_210219_concat_cluster458</td>\n      <td>cluster458</td>\n      <td>SUBJ-ID-197_MML-Passive-Pre-210219-142043_tria...</td>\n      <td>SUBJ-ID-197</td>\n      <td>Passive-Pre-210219-142043</td>\n      <td>210219</td>\n      <td>6</td>\n      <td>1.00</td>\n      <td>0</td>\n      <td>...</td>\n      <td>0.270336</td>\n      <td>58</td>\n      <td>1</td>\n      <td>good</td>\n      <td>0.010609</td>\n      <td>0.01684</td>\n      <td>0.25</td>\n      <td>mua</td>\n      <td>-13.520277</td>\n      <td>-0.746215</td>\n    </tr>\n    <tr>\n      <th>2</th>\n      <td>3</td>\n      <td>SUBJ-ID-197_210219_concat_cluster458</td>\n      <td>cluster458</td>\n      <td>SUBJ-ID-197_MML-Passive-Pre-210219-142043_tria...</td>\n      <td>SUBJ-ID-197</td>\n      <td>Passive-Pre-210219-142043</td>\n      <td>210219</td>\n      <td>10</td>\n      <td>0.71</td>\n      <td>0</td>\n      <td>...</td>\n      <td>0.270336</td>\n      <td>58</td>\n      <td>1</td>\n      <td>good</td>\n      <td>0.010609</td>\n      <td>0.01684</td>\n      <td>0.25</td>\n      <td>mua</td>\n      <td>-13.520277</td>\n      <td>-0.746215</td>\n    </tr>\n    <tr>\n      <th>3</th>\n      <td>4</td>\n      <td>SUBJ-ID-197_210219_concat_cluster458</td>\n      <td>cluster458</td>\n      <td>SUBJ-ID-197_MML-Passive-Pre-210219-142043_tria...</td>\n      <td>SUBJ-ID-197</td>\n      <td>Passive-Pre-210219-142043</td>\n      <td>210219</td>\n      <td>10</td>\n      <td>0.71</td>\n      <td>0</td>\n      <td>...</td>\n      <td>0.270336</td>\n      <td>58</td>\n      <td>1</td>\n      <td>good</td>\n      <td>0.010609</td>\n      <td>0.01684</td>\n      <td>0.25</td>\n      <td>mua</td>\n      <td>-13.520277</td>\n      <td>-0.746215</td>\n    </tr>\n    <tr>\n      <th>4</th>\n      <td>5</td>\n      <td>SUBJ-ID-197_210219_concat_cluster458</td>\n      <td>cluster458</td>\n      <td>SUBJ-ID-197_MML-Passive-Pre-210219-142043_tria...</td>\n      <td>SUBJ-ID-197</td>\n      <td>Passive-Pre-210219-142043</td>\n      <td>210219</td>\n      <td>15</td>\n      <td>0.50</td>\n      <td>0</td>\n      <td>...</td>\n      <td>0.270336</td>\n      <td>58</td>\n      <td>1</td>\n      <td>good</td>\n      <td>0.010609</td>\n      <td>0.01684</td>\n      <td>0.25</td>\n      <td>mua</td>\n      <td>-13.520277</td>\n      <td>-0.746215</td>\n    </tr>\n  </tbody>\n</table>\n<p>5 rows × 31 columns</p>\n</div>"
     },
     "execution_count": 3,
     "metadata": {},
     "output_type": "execute_result"
    }
   ],
   "source": [
    "%matplotlib inline\n",
    "import pandas as pd\n",
    "import matplotlib.pyplot as plt\n",
    "import seaborn as sns\n",
    "sns.set(style=\"darkgrid\")\n",
    "\n",
    "df = pd.read_csv('.\\Data\\Output\\OFCRec_all_PSU_AMsound_df_all.csv')\n",
    "df.head()\n",
    "thon\n"
   ],
   "metadata": {
    "collapsed": false,
    "pycharm": {
     "name": "#%%\n"
    }
   }
  }
 ],
 "metadata": {
  "kernelspec": {
   "display_name": "Python 3",
   "language": "python",
   "name": "python3"
  },
  "language_info": {
   "codemirror_mode": {
    "name": "ipython",
    "version": 2
   },
   "file_extension": ".py",
   "mimetype": "text/x-python",
   "name": "python",
   "nbconvert_exporter": "python",
   "pygments_lexer": "ipython2",
   "version": "2.7.6"
  },
  "pycharm": {
   "stem_cell": {
    "cell_type": "raw",
    "source": [
     "\n"
    ],
    "metadata": {
     "collapsed": false
    }
   }
  }
 },
 "nbformat": 4,
 "nbformat_minor": 0
}